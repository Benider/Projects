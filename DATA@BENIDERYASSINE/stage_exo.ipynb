{
  "nbformat": 4,
  "nbformat_minor": 0,
  "metadata": {
    "colab": {
      "name": "stage_exo.ipynb",
      "provenance": [],
      "collapsed_sections": []
    },
    "kernelspec": {
      "name": "python3",
      "display_name": "Python 3"
    }
  },
  "cells": [
    {
      "cell_type": "markdown",
      "metadata": {
        "id": "B7EuL4bCCWTy",
        "colab_type": "text"
      },
      "source": [
        "#DATA@BeniderYassine\n",
        "**Exos pour stage Data scientist chez Tictactrip**"
      ]
    },
    {
      "cell_type": "markdown",
      "metadata": {
        "id": "AtIa75xcFxcY",
        "colab_type": "text"
      },
      "source": [
        "##**1. Let's explore the data**"
      ]
    },
    {
      "cell_type": "code",
      "metadata": {
        "id": "m2VcqMDrB2aW",
        "colab_type": "code",
        "outputId": "3ca91658-7ea9-4364-b030-e1bebd21a45a",
        "colab": {
          "base_uri": "https://localhost:8080/",
          "height": 105
        }
      },
      "source": [
        "#importing the libraries\n",
        "import pandas as pd\n",
        "from datetime import timedelta\n",
        "import numpy as np\n",
        "\n",
        "import seaborn as sns\n",
        "import matplotlib.pyplot as plt\n",
        "\n",
        "!pip install pyproj==1.9.6\n",
        "from pyproj import Geod\n",
        "\n",
        "!conda install -c conda-forge geopy --yes \n",
        "from geopy.geocoders import Nominatim # module to convert an address into latitude and longitude values\n",
        "\n",
        "import folium\n",
        "from folium import plugins\n",
        "from math import sin, cos, sqrt, atan2, radians"
      ],
      "execution_count": 1,
      "outputs": [
        {
          "output_type": "stream",
          "text": [
            "/usr/local/lib/python3.6/dist-packages/statsmodels/tools/_testing.py:19: FutureWarning: pandas.util.testing is deprecated. Use the functions in the public API at pandas.testing instead.\n",
            "  import pandas.util.testing as tm\n"
          ],
          "name": "stderr"
        },
        {
          "output_type": "stream",
          "text": [
            "Requirement already satisfied: pyproj==1.9.6 in /usr/local/lib/python3.6/dist-packages (1.9.6)\n",
            "/bin/bash: conda: command not found\n"
          ],
          "name": "stdout"
        }
      ]
    },
    {
      "cell_type": "markdown",
      "metadata": {
        "id": "IErsDSj8I01-",
        "colab_type": "text"
      },
      "source": [
        "Je commence par explorer les fichiers csv et leur infos.\n",
        "Il faut noter qu'on remarque des valeurs NaN, soit affiché soit dans le Non-Null count de .info()"
      ]
    },
    {
      "cell_type": "code",
      "metadata": {
        "id": "Wx3uffUkCAs6",
        "colab_type": "code",
        "outputId": "496b03c8-cdcf-4d6c-ec87-6f94dc706948",
        "colab": {
          "base_uri": "https://localhost:8080/",
          "height": 340
        }
      },
      "source": [
        "# Load the CSV data into DataFrames and show info\n",
        "city = pd.read_csv('cities.csv', index_col=['id'])\n",
        "print(city.info())\n",
        "print(city.isna().any())"
      ],
      "execution_count": 2,
      "outputs": [
        {
          "output_type": "stream",
          "text": [
            "<class 'pandas.core.frame.DataFrame'>\n",
            "Int64Index: 8040 entries, 5159 to 11537\n",
            "Data columns (total 5 columns):\n",
            " #   Column       Non-Null Count  Dtype  \n",
            "---  ------       --------------  -----  \n",
            " 0   local_name   8040 non-null   object \n",
            " 1   unique_name  8039 non-null   object \n",
            " 2   latitude     8040 non-null   float64\n",
            " 3   longitude    8040 non-null   float64\n",
            " 4   population   369 non-null    float64\n",
            "dtypes: float64(3), object(2)\n",
            "memory usage: 376.9+ KB\n",
            "None\n",
            "local_name     False\n",
            "unique_name     True\n",
            "latitude       False\n",
            "longitude      False\n",
            "population      True\n",
            "dtype: bool\n"
          ],
          "name": "stdout"
        }
      ]
    },
    {
      "cell_type": "code",
      "metadata": {
        "id": "Lp9Jol91FuKG",
        "colab_type": "code",
        "outputId": "50b10886-dbf1-4321-b707-b2097aeaedc8",
        "colab": {
          "base_uri": "https://localhost:8080/",
          "height": 476
        }
      },
      "source": [
        "# Load the CSV data into DataFrames and show info\n",
        "provider = pd.read_csv('providers.csv', index_col=['id'])\n",
        "print(provider.info())\n",
        "print(provider.isna().any())"
      ],
      "execution_count": 3,
      "outputs": [
        {
          "output_type": "stream",
          "text": [
            "<class 'pandas.core.frame.DataFrame'>\n",
            "Int64Index: 227 entries, 9 to 8389\n",
            "Data columns (total 9 columns):\n",
            " #   Column                Non-Null Count  Dtype \n",
            "---  ------                --------------  ----- \n",
            " 0   company_id            227 non-null    int64 \n",
            " 1   provider_id           213 non-null    object\n",
            " 2   name                  227 non-null    object\n",
            " 3   fullname              227 non-null    object\n",
            " 4   has_wifi              224 non-null    object\n",
            " 5   has_plug              224 non-null    object\n",
            " 6   has_adjustable_seats  224 non-null    object\n",
            " 7   has_bicycle           224 non-null    object\n",
            " 8   transport_type        227 non-null    object\n",
            "dtypes: int64(1), object(8)\n",
            "memory usage: 17.7+ KB\n",
            "None\n",
            "company_id              False\n",
            "provider_id              True\n",
            "name                    False\n",
            "fullname                False\n",
            "has_wifi                 True\n",
            "has_plug                 True\n",
            "has_adjustable_seats     True\n",
            "has_bicycle              True\n",
            "transport_type          False\n",
            "dtype: bool\n"
          ],
          "name": "stdout"
        }
      ]
    },
    {
      "cell_type": "code",
      "metadata": {
        "id": "df4VgFirHDl6",
        "colab_type": "code",
        "outputId": "afc319c2-1419-4c21-edb4-c755b23c2043",
        "colab": {
          "base_uri": "https://localhost:8080/",
          "height": 272
        }
      },
      "source": [
        "# Load the CSV data into DataFrames and show info\n",
        "station = pd.read_csv('stations.csv', index_col=['id'])\n",
        "print(station.info())\n",
        "print(station.isna().any())"
      ],
      "execution_count": 4,
      "outputs": [
        {
          "output_type": "stream",
          "text": [
            "<class 'pandas.core.frame.DataFrame'>\n",
            "Int64Index: 11035 entries, 1 to 11036\n",
            "Data columns (total 3 columns):\n",
            " #   Column       Non-Null Count  Dtype  \n",
            "---  ------       --------------  -----  \n",
            " 0   unique_name  11035 non-null  object \n",
            " 1   latitude     11035 non-null  float64\n",
            " 2   longitude    11035 non-null  float64\n",
            "dtypes: float64(2), object(1)\n",
            "memory usage: 344.8+ KB\n",
            "None\n",
            "unique_name    False\n",
            "latitude       False\n",
            "longitude      False\n",
            "dtype: bool\n"
          ],
          "name": "stdout"
        }
      ]
    },
    {
      "cell_type": "code",
      "metadata": {
        "id": "JR_V6gCpHGke",
        "colab_type": "code",
        "outputId": "b0e75e38-5d8c-4732-e178-82646fcf22ba",
        "colab": {
          "base_uri": "https://localhost:8080/",
          "height": 544
        }
      },
      "source": [
        "# Load the CSV data into DataFrames and show info \n",
        "ticket = pd.read_csv('ticket_data.csv', index_col=['id'])\n",
        "print(ticket.info())\n",
        "print(ticket.isna().any())"
      ],
      "execution_count": 5,
      "outputs": [
        {
          "output_type": "stream",
          "text": [
            "<class 'pandas.core.frame.DataFrame'>\n",
            "Int64Index: 74168 entries, 6795025 to 6869191\n",
            "Data columns (total 11 columns):\n",
            " #   Column           Non-Null Count  Dtype  \n",
            "---  ------           --------------  -----  \n",
            " 0   company          74168 non-null  int64  \n",
            " 1   o_station        32727 non-null  float64\n",
            " 2   d_station        32727 non-null  float64\n",
            " 3   departure_ts     74168 non-null  object \n",
            " 4   arrival_ts       74168 non-null  object \n",
            " 5   price_in_cents   74168 non-null  int64  \n",
            " 6   search_ts        74168 non-null  object \n",
            " 7   middle_stations  32727 non-null  object \n",
            " 8   other_companies  32727 non-null  object \n",
            " 9   o_city           74168 non-null  int64  \n",
            " 10  d_city           74168 non-null  int64  \n",
            "dtypes: float64(2), int64(4), object(5)\n",
            "memory usage: 6.8+ MB\n",
            "None\n",
            "company            False\n",
            "o_station           True\n",
            "d_station           True\n",
            "departure_ts       False\n",
            "arrival_ts         False\n",
            "price_in_cents     False\n",
            "search_ts          False\n",
            "middle_stations     True\n",
            "other_companies     True\n",
            "o_city             False\n",
            "d_city             False\n",
            "dtype: bool\n"
          ],
          "name": "stdout"
        }
      ]
    },
    {
      "cell_type": "code",
      "metadata": {
        "id": "DQFaZNzPUPgs",
        "colab_type": "code",
        "outputId": "8183672c-14e0-4cf6-9ef7-b2e6452d16d1",
        "colab": {
          "base_uri": "https://localhost:8080/",
          "height": 994
        }
      },
      "source": [
        "#display first 5 rows of Datasets\n",
        "display(city.head())\n",
        "display(station.head())\n",
        "display(provider.head())\n",
        "display(ticket.head())"
      ],
      "execution_count": 6,
      "outputs": [
        {
          "output_type": "display_data",
          "data": {
            "text/html": [
              "<div>\n",
              "<style scoped>\n",
              "    .dataframe tbody tr th:only-of-type {\n",
              "        vertical-align: middle;\n",
              "    }\n",
              "\n",
              "    .dataframe tbody tr th {\n",
              "        vertical-align: top;\n",
              "    }\n",
              "\n",
              "    .dataframe thead th {\n",
              "        text-align: right;\n",
              "    }\n",
              "</style>\n",
              "<table border=\"1\" class=\"dataframe\">\n",
              "  <thead>\n",
              "    <tr style=\"text-align: right;\">\n",
              "      <th></th>\n",
              "      <th>local_name</th>\n",
              "      <th>unique_name</th>\n",
              "      <th>latitude</th>\n",
              "      <th>longitude</th>\n",
              "      <th>population</th>\n",
              "    </tr>\n",
              "    <tr>\n",
              "      <th>id</th>\n",
              "      <th></th>\n",
              "      <th></th>\n",
              "      <th></th>\n",
              "      <th></th>\n",
              "      <th></th>\n",
              "    </tr>\n",
              "  </thead>\n",
              "  <tbody>\n",
              "    <tr>\n",
              "      <th>5159</th>\n",
              "      <td>Padua, Veneto, Italia</td>\n",
              "      <td>padua</td>\n",
              "      <td>45.406435</td>\n",
              "      <td>11.876761</td>\n",
              "      <td>209678.0</td>\n",
              "    </tr>\n",
              "    <tr>\n",
              "      <th>76</th>\n",
              "      <td>Barcelona, Cataluña, España</td>\n",
              "      <td>barcelona</td>\n",
              "      <td>41.385064</td>\n",
              "      <td>2.173404</td>\n",
              "      <td>1611822.0</td>\n",
              "    </tr>\n",
              "    <tr>\n",
              "      <th>81</th>\n",
              "      <td>Basel, Basel-Stadt, Schweiz</td>\n",
              "      <td>basel</td>\n",
              "      <td>47.593437</td>\n",
              "      <td>7.619812</td>\n",
              "      <td>NaN</td>\n",
              "    </tr>\n",
              "    <tr>\n",
              "      <th>259</th>\n",
              "      <td>Erlangen, Bayern, Deutschland</td>\n",
              "      <td>erlangen</td>\n",
              "      <td>49.589674</td>\n",
              "      <td>11.011961</td>\n",
              "      <td>105412.0</td>\n",
              "    </tr>\n",
              "    <tr>\n",
              "      <th>11979</th>\n",
              "      <td>Balș, Olt, România</td>\n",
              "      <td>balș</td>\n",
              "      <td>44.353354</td>\n",
              "      <td>24.095672</td>\n",
              "      <td>NaN</td>\n",
              "    </tr>\n",
              "  </tbody>\n",
              "</table>\n",
              "</div>"
            ],
            "text/plain": [
              "                          local_name unique_name  ...  longitude  population\n",
              "id                                                ...                       \n",
              "5159           Padua, Veneto, Italia       padua  ...  11.876761    209678.0\n",
              "76       Barcelona, Cataluña, España   barcelona  ...   2.173404   1611822.0\n",
              "81       Basel, Basel-Stadt, Schweiz       basel  ...   7.619812         NaN\n",
              "259    Erlangen, Bayern, Deutschland    erlangen  ...  11.011961    105412.0\n",
              "11979             Balș, Olt, România        balș  ...  24.095672         NaN\n",
              "\n",
              "[5 rows x 5 columns]"
            ]
          },
          "metadata": {
            "tags": []
          }
        },
        {
          "output_type": "display_data",
          "data": {
            "text/html": [
              "<div>\n",
              "<style scoped>\n",
              "    .dataframe tbody tr th:only-of-type {\n",
              "        vertical-align: middle;\n",
              "    }\n",
              "\n",
              "    .dataframe tbody tr th {\n",
              "        vertical-align: top;\n",
              "    }\n",
              "\n",
              "    .dataframe thead th {\n",
              "        text-align: right;\n",
              "    }\n",
              "</style>\n",
              "<table border=\"1\" class=\"dataframe\">\n",
              "  <thead>\n",
              "    <tr style=\"text-align: right;\">\n",
              "      <th></th>\n",
              "      <th>unique_name</th>\n",
              "      <th>latitude</th>\n",
              "      <th>longitude</th>\n",
              "    </tr>\n",
              "    <tr>\n",
              "      <th>id</th>\n",
              "      <th></th>\n",
              "      <th></th>\n",
              "      <th></th>\n",
              "    </tr>\n",
              "  </thead>\n",
              "  <tbody>\n",
              "    <tr>\n",
              "      <th>1</th>\n",
              "      <td>Aalen (Stuttgarter Straße)</td>\n",
              "      <td>48.835296</td>\n",
              "      <td>10.092956</td>\n",
              "    </tr>\n",
              "    <tr>\n",
              "      <th>2</th>\n",
              "      <td>Aéroport Bordeaux-Mérignac</td>\n",
              "      <td>44.830226</td>\n",
              "      <td>-0.700883</td>\n",
              "    </tr>\n",
              "    <tr>\n",
              "      <th>3</th>\n",
              "      <td>Aéroport CDG</td>\n",
              "      <td>49.009900</td>\n",
              "      <td>2.559310</td>\n",
              "    </tr>\n",
              "    <tr>\n",
              "      <th>4</th>\n",
              "      <td>Aéroport de Berlin-Schönefeld</td>\n",
              "      <td>52.389446</td>\n",
              "      <td>13.520345</td>\n",
              "    </tr>\n",
              "    <tr>\n",
              "      <th>5</th>\n",
              "      <td>Aéroport de Dresden</td>\n",
              "      <td>51.123604</td>\n",
              "      <td>13.764737</td>\n",
              "    </tr>\n",
              "  </tbody>\n",
              "</table>\n",
              "</div>"
            ],
            "text/plain": [
              "                       unique_name   latitude  longitude\n",
              "id                                                      \n",
              "1       Aalen (Stuttgarter Straße)  48.835296  10.092956\n",
              "2       Aéroport Bordeaux-Mérignac  44.830226  -0.700883\n",
              "3                    Aéroport CDG   49.009900   2.559310\n",
              "4   Aéroport de Berlin-Schönefeld   52.389446  13.520345\n",
              "5              Aéroport de Dresden  51.123604  13.764737"
            ]
          },
          "metadata": {
            "tags": []
          }
        },
        {
          "output_type": "display_data",
          "data": {
            "text/html": [
              "<div>\n",
              "<style scoped>\n",
              "    .dataframe tbody tr th:only-of-type {\n",
              "        vertical-align: middle;\n",
              "    }\n",
              "\n",
              "    .dataframe tbody tr th {\n",
              "        vertical-align: top;\n",
              "    }\n",
              "\n",
              "    .dataframe thead th {\n",
              "        text-align: right;\n",
              "    }\n",
              "</style>\n",
              "<table border=\"1\" class=\"dataframe\">\n",
              "  <thead>\n",
              "    <tr style=\"text-align: right;\">\n",
              "      <th></th>\n",
              "      <th>company_id</th>\n",
              "      <th>provider_id</th>\n",
              "      <th>name</th>\n",
              "      <th>fullname</th>\n",
              "      <th>has_wifi</th>\n",
              "      <th>has_plug</th>\n",
              "      <th>has_adjustable_seats</th>\n",
              "      <th>has_bicycle</th>\n",
              "      <th>transport_type</th>\n",
              "    </tr>\n",
              "    <tr>\n",
              "      <th>id</th>\n",
              "      <th></th>\n",
              "      <th></th>\n",
              "      <th></th>\n",
              "      <th></th>\n",
              "      <th></th>\n",
              "      <th></th>\n",
              "      <th></th>\n",
              "      <th></th>\n",
              "      <th></th>\n",
              "    </tr>\n",
              "  </thead>\n",
              "  <tbody>\n",
              "    <tr>\n",
              "      <th>9</th>\n",
              "      <td>1</td>\n",
              "      <td>NaN</td>\n",
              "      <td>ouibus</td>\n",
              "      <td>Ouibus</td>\n",
              "      <td>True</td>\n",
              "      <td>True</td>\n",
              "      <td>True</td>\n",
              "      <td>False</td>\n",
              "      <td>bus</td>\n",
              "    </tr>\n",
              "    <tr>\n",
              "      <th>10</th>\n",
              "      <td>2</td>\n",
              "      <td>NaN</td>\n",
              "      <td>deinbus</td>\n",
              "      <td>Deinbus.de</td>\n",
              "      <td>False</td>\n",
              "      <td>False</td>\n",
              "      <td>False</td>\n",
              "      <td>False</td>\n",
              "      <td>bus</td>\n",
              "    </tr>\n",
              "    <tr>\n",
              "      <th>11</th>\n",
              "      <td>3</td>\n",
              "      <td>NaN</td>\n",
              "      <td>infobus</td>\n",
              "      <td>Infobus</td>\n",
              "      <td>False</td>\n",
              "      <td>False</td>\n",
              "      <td>False</td>\n",
              "      <td>False</td>\n",
              "      <td>bus</td>\n",
              "    </tr>\n",
              "    <tr>\n",
              "      <th>12</th>\n",
              "      <td>4</td>\n",
              "      <td>NaN</td>\n",
              "      <td>studentAgency</td>\n",
              "      <td>Student Agency</td>\n",
              "      <td>False</td>\n",
              "      <td>False</td>\n",
              "      <td>False</td>\n",
              "      <td>False</td>\n",
              "      <td>bus</td>\n",
              "    </tr>\n",
              "    <tr>\n",
              "      <th>13</th>\n",
              "      <td>5</td>\n",
              "      <td>NaN</td>\n",
              "      <td>flixbus</td>\n",
              "      <td>Flixbus</td>\n",
              "      <td>True</td>\n",
              "      <td>False</td>\n",
              "      <td>False</td>\n",
              "      <td>False</td>\n",
              "      <td>bus</td>\n",
              "    </tr>\n",
              "  </tbody>\n",
              "</table>\n",
              "</div>"
            ],
            "text/plain": [
              "    company_id provider_id  ... has_bicycle transport_type\n",
              "id                          ...                           \n",
              "9            1         NaN  ...       False            bus\n",
              "10           2         NaN  ...       False            bus\n",
              "11           3         NaN  ...       False            bus\n",
              "12           4         NaN  ...       False            bus\n",
              "13           5         NaN  ...       False            bus\n",
              "\n",
              "[5 rows x 9 columns]"
            ]
          },
          "metadata": {
            "tags": []
          }
        },
        {
          "output_type": "display_data",
          "data": {
            "text/html": [
              "<div>\n",
              "<style scoped>\n",
              "    .dataframe tbody tr th:only-of-type {\n",
              "        vertical-align: middle;\n",
              "    }\n",
              "\n",
              "    .dataframe tbody tr th {\n",
              "        vertical-align: top;\n",
              "    }\n",
              "\n",
              "    .dataframe thead th {\n",
              "        text-align: right;\n",
              "    }\n",
              "</style>\n",
              "<table border=\"1\" class=\"dataframe\">\n",
              "  <thead>\n",
              "    <tr style=\"text-align: right;\">\n",
              "      <th></th>\n",
              "      <th>company</th>\n",
              "      <th>o_station</th>\n",
              "      <th>d_station</th>\n",
              "      <th>departure_ts</th>\n",
              "      <th>arrival_ts</th>\n",
              "      <th>price_in_cents</th>\n",
              "      <th>search_ts</th>\n",
              "      <th>middle_stations</th>\n",
              "      <th>other_companies</th>\n",
              "      <th>o_city</th>\n",
              "      <th>d_city</th>\n",
              "    </tr>\n",
              "    <tr>\n",
              "      <th>id</th>\n",
              "      <th></th>\n",
              "      <th></th>\n",
              "      <th></th>\n",
              "      <th></th>\n",
              "      <th></th>\n",
              "      <th></th>\n",
              "      <th></th>\n",
              "      <th></th>\n",
              "      <th></th>\n",
              "      <th></th>\n",
              "      <th></th>\n",
              "    </tr>\n",
              "  </thead>\n",
              "  <tbody>\n",
              "    <tr>\n",
              "      <th>6795025</th>\n",
              "      <td>8385</td>\n",
              "      <td>NaN</td>\n",
              "      <td>NaN</td>\n",
              "      <td>2017-10-13 14:00:00+00</td>\n",
              "      <td>2017-10-13 20:10:00+00</td>\n",
              "      <td>4550</td>\n",
              "      <td>2017-10-01 00:13:31.327+00</td>\n",
              "      <td>NaN</td>\n",
              "      <td>NaN</td>\n",
              "      <td>611</td>\n",
              "      <td>542</td>\n",
              "    </tr>\n",
              "    <tr>\n",
              "      <th>6795026</th>\n",
              "      <td>9</td>\n",
              "      <td>63.0</td>\n",
              "      <td>1044.0</td>\n",
              "      <td>2017-10-13 13:05:00+00</td>\n",
              "      <td>2017-10-14 06:55:00+00</td>\n",
              "      <td>1450</td>\n",
              "      <td>2017-10-01 00:13:35.773+00</td>\n",
              "      <td>{149,418}</td>\n",
              "      <td>{13}</td>\n",
              "      <td>611</td>\n",
              "      <td>542</td>\n",
              "    </tr>\n",
              "    <tr>\n",
              "      <th>6795027</th>\n",
              "      <td>8377</td>\n",
              "      <td>5905.0</td>\n",
              "      <td>6495.0</td>\n",
              "      <td>2017-10-13 13:27:00+00</td>\n",
              "      <td>2017-10-14 21:24:00+00</td>\n",
              "      <td>7400</td>\n",
              "      <td>2017-10-01 00:13:40.212+00</td>\n",
              "      <td>{798,798,6794,6246}</td>\n",
              "      <td>{8377,8376}</td>\n",
              "      <td>611</td>\n",
              "      <td>542</td>\n",
              "    </tr>\n",
              "    <tr>\n",
              "      <th>6795028</th>\n",
              "      <td>8377</td>\n",
              "      <td>5905.0</td>\n",
              "      <td>6495.0</td>\n",
              "      <td>2017-10-13 13:27:00+00</td>\n",
              "      <td>2017-10-14 11:02:00+00</td>\n",
              "      <td>13500</td>\n",
              "      <td>2017-10-01 00:13:40.213+00</td>\n",
              "      <td>{798,798,6794,6246}</td>\n",
              "      <td>{8377,8376}</td>\n",
              "      <td>611</td>\n",
              "      <td>542</td>\n",
              "    </tr>\n",
              "    <tr>\n",
              "      <th>6795029</th>\n",
              "      <td>8381</td>\n",
              "      <td>5905.0</td>\n",
              "      <td>6495.0</td>\n",
              "      <td>2017-10-13 21:46:00+00</td>\n",
              "      <td>2017-10-14 19:32:00+00</td>\n",
              "      <td>7710</td>\n",
              "      <td>2017-10-01 00:13:40.213+00</td>\n",
              "      <td>{5983,5983}</td>\n",
              "      <td>{8380}</td>\n",
              "      <td>611</td>\n",
              "      <td>542</td>\n",
              "    </tr>\n",
              "  </tbody>\n",
              "</table>\n",
              "</div>"
            ],
            "text/plain": [
              "         company  o_station  d_station  ... other_companies o_city  d_city\n",
              "id                                      ...                               \n",
              "6795025     8385        NaN        NaN  ...             NaN    611     542\n",
              "6795026        9       63.0     1044.0  ...            {13}    611     542\n",
              "6795027     8377     5905.0     6495.0  ...     {8377,8376}    611     542\n",
              "6795028     8377     5905.0     6495.0  ...     {8377,8376}    611     542\n",
              "6795029     8381     5905.0     6495.0  ...          {8380}    611     542\n",
              "\n",
              "[5 rows x 11 columns]"
            ]
          },
          "metadata": {
            "tags": []
          }
        }
      ]
    },
    {
      "cell_type": "markdown",
      "metadata": {
        "id": "3Gfx27O1H8jy",
        "colab_type": "text"
      },
      "source": [
        "##2. **Data Preprocessing**"
      ]
    },
    {
      "cell_type": "code",
      "metadata": {
        "id": "Fi9bwVD-HIUF",
        "colab_type": "code",
        "outputId": "6a8e8b6e-4c9e-4dfd-f59b-139bef8149a9",
        "colab": {
          "base_uri": "https://localhost:8080/",
          "height": 323
        }
      },
      "source": [
        "#je transforme les colonnes 'departure_ts', 'arrival_ts' et 'search_ts' en datetime object pour faciliter la suite de l'analyse\n",
        "ticket.departure_ts = pd.to_datetime(ticket.departure_ts)\n",
        "ticket.arrival_ts = pd.to_datetime(ticket.arrival_ts)\n",
        "ticket.search_ts = pd.to_datetime(ticket.search_ts)\n",
        "\n",
        "ticket.info()\n"
      ],
      "execution_count": 7,
      "outputs": [
        {
          "output_type": "stream",
          "text": [
            "<class 'pandas.core.frame.DataFrame'>\n",
            "Int64Index: 74168 entries, 6795025 to 6869191\n",
            "Data columns (total 11 columns):\n",
            " #   Column           Non-Null Count  Dtype              \n",
            "---  ------           --------------  -----              \n",
            " 0   company          74168 non-null  int64              \n",
            " 1   o_station        32727 non-null  float64            \n",
            " 2   d_station        32727 non-null  float64            \n",
            " 3   departure_ts     74168 non-null  datetime64[ns, UTC]\n",
            " 4   arrival_ts       74168 non-null  datetime64[ns, UTC]\n",
            " 5   price_in_cents   74168 non-null  int64              \n",
            " 6   search_ts        74168 non-null  datetime64[ns, UTC]\n",
            " 7   middle_stations  32727 non-null  object             \n",
            " 8   other_companies  32727 non-null  object             \n",
            " 9   o_city           74168 non-null  int64              \n",
            " 10  d_city           74168 non-null  int64              \n",
            "dtypes: datetime64[ns, UTC](3), float64(2), int64(4), object(2)\n",
            "memory usage: 6.8+ MB\n"
          ],
          "name": "stdout"
        }
      ]
    },
    {
      "cell_type": "code",
      "metadata": {
        "id": "MozBTVYaW_c2",
        "colab_type": "code",
        "colab": {}
      },
      "source": [
        "#Création d'une nouvelle colonne : durée sur ticket\n",
        "\n",
        "ticket['duree'] = ticket.arrival_ts - ticket.departure_ts"
      ],
      "execution_count": 0,
      "outputs": []
    },
    {
      "cell_type": "markdown",
      "metadata": {
        "id": "laZEAd-aqebO",
        "colab_type": "text"
      },
      "source": [
        "J'elimine certaines colonnes que je n'utiliserai pas dans ce préliminaire"
      ]
    },
    {
      "cell_type": "code",
      "metadata": {
        "id": "6_t-VUUiqdGa",
        "colab_type": "code",
        "colab": {}
      },
      "source": [
        "provider.drop(['has_wifi', 'has_plug', 'has_adjustable_seats', 'has_bicycle'], axis=1, inplace= True) #garder ces infos pourrait quand même etre utile pour savoir qu'est-ce qui attire les pasagers avec du machine learning ..."
      ],
      "execution_count": 0,
      "outputs": []
    },
    {
      "cell_type": "code",
      "metadata": {
        "id": "APMzdenAnaLo",
        "colab_type": "code",
        "outputId": "259eb773-d3d2-4db2-8912-844f5020dee7",
        "colab": {
          "base_uri": "https://localhost:8080/",
          "height": 309
        }
      },
      "source": [
        "#get transport type for each ticket\n",
        "merged = pd.merge(ticket, provider, how= 'inner', left_on='company', right_on='id')\n",
        "merged.head()"
      ],
      "execution_count": 10,
      "outputs": [
        {
          "output_type": "execute_result",
          "data": {
            "text/html": [
              "<div>\n",
              "<style scoped>\n",
              "    .dataframe tbody tr th:only-of-type {\n",
              "        vertical-align: middle;\n",
              "    }\n",
              "\n",
              "    .dataframe tbody tr th {\n",
              "        vertical-align: top;\n",
              "    }\n",
              "\n",
              "    .dataframe thead th {\n",
              "        text-align: right;\n",
              "    }\n",
              "</style>\n",
              "<table border=\"1\" class=\"dataframe\">\n",
              "  <thead>\n",
              "    <tr style=\"text-align: right;\">\n",
              "      <th></th>\n",
              "      <th>company</th>\n",
              "      <th>o_station</th>\n",
              "      <th>d_station</th>\n",
              "      <th>departure_ts</th>\n",
              "      <th>arrival_ts</th>\n",
              "      <th>price_in_cents</th>\n",
              "      <th>search_ts</th>\n",
              "      <th>middle_stations</th>\n",
              "      <th>other_companies</th>\n",
              "      <th>o_city</th>\n",
              "      <th>d_city</th>\n",
              "      <th>duree</th>\n",
              "      <th>company_id</th>\n",
              "      <th>provider_id</th>\n",
              "      <th>name</th>\n",
              "      <th>fullname</th>\n",
              "      <th>transport_type</th>\n",
              "    </tr>\n",
              "  </thead>\n",
              "  <tbody>\n",
              "    <tr>\n",
              "      <th>0</th>\n",
              "      <td>8385</td>\n",
              "      <td>NaN</td>\n",
              "      <td>NaN</td>\n",
              "      <td>2017-10-13 14:00:00+00:00</td>\n",
              "      <td>2017-10-13 20:10:00+00:00</td>\n",
              "      <td>4550</td>\n",
              "      <td>2017-10-01 00:13:31.327000+00:00</td>\n",
              "      <td>NaN</td>\n",
              "      <td>NaN</td>\n",
              "      <td>611</td>\n",
              "      <td>542</td>\n",
              "      <td>06:10:00</td>\n",
              "      <td>11</td>\n",
              "      <td>NaN</td>\n",
              "      <td>bbc</td>\n",
              "      <td>Blablacar</td>\n",
              "      <td>carpooling</td>\n",
              "    </tr>\n",
              "    <tr>\n",
              "      <th>1</th>\n",
              "      <td>8385</td>\n",
              "      <td>NaN</td>\n",
              "      <td>NaN</td>\n",
              "      <td>2017-10-06 05:30:00+00:00</td>\n",
              "      <td>2017-10-06 08:30:00+00:00</td>\n",
              "      <td>1800</td>\n",
              "      <td>2017-10-01 01:03:18.948000+00:00</td>\n",
              "      <td>NaN</td>\n",
              "      <td>NaN</td>\n",
              "      <td>628</td>\n",
              "      <td>453</td>\n",
              "      <td>03:00:00</td>\n",
              "      <td>11</td>\n",
              "      <td>NaN</td>\n",
              "      <td>bbc</td>\n",
              "      <td>Blablacar</td>\n",
              "      <td>carpooling</td>\n",
              "    </tr>\n",
              "    <tr>\n",
              "      <th>2</th>\n",
              "      <td>8385</td>\n",
              "      <td>NaN</td>\n",
              "      <td>NaN</td>\n",
              "      <td>2017-10-06 07:00:42+00:00</td>\n",
              "      <td>2017-10-06 09:30:42+00:00</td>\n",
              "      <td>2150</td>\n",
              "      <td>2017-10-01 01:03:18.948000+00:00</td>\n",
              "      <td>NaN</td>\n",
              "      <td>NaN</td>\n",
              "      <td>628</td>\n",
              "      <td>453</td>\n",
              "      <td>02:30:00</td>\n",
              "      <td>11</td>\n",
              "      <td>NaN</td>\n",
              "      <td>bbc</td>\n",
              "      <td>Blablacar</td>\n",
              "      <td>carpooling</td>\n",
              "    </tr>\n",
              "    <tr>\n",
              "      <th>3</th>\n",
              "      <td>8385</td>\n",
              "      <td>NaN</td>\n",
              "      <td>NaN</td>\n",
              "      <td>2017-10-06 07:10:00+00:00</td>\n",
              "      <td>2017-10-06 09:40:00+00:00</td>\n",
              "      <td>1700</td>\n",
              "      <td>2017-10-01 01:03:18.948000+00:00</td>\n",
              "      <td>NaN</td>\n",
              "      <td>NaN</td>\n",
              "      <td>628</td>\n",
              "      <td>453</td>\n",
              "      <td>02:30:00</td>\n",
              "      <td>11</td>\n",
              "      <td>NaN</td>\n",
              "      <td>bbc</td>\n",
              "      <td>Blablacar</td>\n",
              "      <td>carpooling</td>\n",
              "    </tr>\n",
              "    <tr>\n",
              "      <th>4</th>\n",
              "      <td>8385</td>\n",
              "      <td>NaN</td>\n",
              "      <td>NaN</td>\n",
              "      <td>2017-10-06 10:00:00+00:00</td>\n",
              "      <td>2017-10-06 12:50:00+00:00</td>\n",
              "      <td>1700</td>\n",
              "      <td>2017-10-01 01:03:18.948000+00:00</td>\n",
              "      <td>NaN</td>\n",
              "      <td>NaN</td>\n",
              "      <td>628</td>\n",
              "      <td>453</td>\n",
              "      <td>02:50:00</td>\n",
              "      <td>11</td>\n",
              "      <td>NaN</td>\n",
              "      <td>bbc</td>\n",
              "      <td>Blablacar</td>\n",
              "      <td>carpooling</td>\n",
              "    </tr>\n",
              "  </tbody>\n",
              "</table>\n",
              "</div>"
            ],
            "text/plain": [
              "   company  o_station  d_station  ... name   fullname  transport_type\n",
              "0     8385        NaN        NaN  ...  bbc  Blablacar      carpooling\n",
              "1     8385        NaN        NaN  ...  bbc  Blablacar      carpooling\n",
              "2     8385        NaN        NaN  ...  bbc  Blablacar      carpooling\n",
              "3     8385        NaN        NaN  ...  bbc  Blablacar      carpooling\n",
              "4     8385        NaN        NaN  ...  bbc  Blablacar      carpooling\n",
              "\n",
              "[5 rows x 17 columns]"
            ]
          },
          "metadata": {
            "tags": []
          },
          "execution_count": 10
        }
      ]
    },
    {
      "cell_type": "markdown",
      "metadata": {
        "id": "tDLjNBd4InQG",
        "colab_type": "text"
      },
      "source": [
        "création d'un table merged_d pour avoir les coordonées de depart et d'arriver afin de calculer la distance & plot (voir la dernière partie)"
      ]
    },
    {
      "cell_type": "code",
      "metadata": {
        "id": "-4MNVe2oE5eY",
        "colab_type": "code",
        "outputId": "3d593610-1b3f-45ae-c06e-fd004aa42d70",
        "colab": {
          "base_uri": "https://localhost:8080/",
          "height": 394
        }
      },
      "source": [
        "merged_o= pd.merge(ticket, city, how= 'inner', left_on='o_city', right_on='id')\n",
        "merged_o.drop(['o_city', 'population', 'o_station', 'd_station'], axis=1, inplace=True)\n",
        "merged_o.columns = ['company', 'departure_ts', 'arrival_ts', 'price_in_cents', 'search_ts', 'middle_stations', 'other_companies', 'd_city', 'duree', 'o_local_name', 'o_city', 'o_latitude','o_longitude']\n",
        "\n",
        "merged_d= pd.merge(merged_o, city, how= 'inner', left_on='d_city', right_on='id')\n",
        "merged_d.drop(['d_city', 'population'], axis=1, inplace=True)\n",
        "merged_d.columns = ['company', 'departure_ts', 'arrival_ts', 'price_in_cents', 'search_ts', 'middle_stations', 'other_companies', 'duree', 'o_local_name', 'o_city', 'o_latitude','o_longitude', 'd_local_name', 'd_city', 'd_latitude','d_longitude']\n",
        "\n",
        "\n",
        "\n",
        "merged_d.head()"
      ],
      "execution_count": 11,
      "outputs": [
        {
          "output_type": "execute_result",
          "data": {
            "text/html": [
              "<div>\n",
              "<style scoped>\n",
              "    .dataframe tbody tr th:only-of-type {\n",
              "        vertical-align: middle;\n",
              "    }\n",
              "\n",
              "    .dataframe tbody tr th {\n",
              "        vertical-align: top;\n",
              "    }\n",
              "\n",
              "    .dataframe thead th {\n",
              "        text-align: right;\n",
              "    }\n",
              "</style>\n",
              "<table border=\"1\" class=\"dataframe\">\n",
              "  <thead>\n",
              "    <tr style=\"text-align: right;\">\n",
              "      <th></th>\n",
              "      <th>company</th>\n",
              "      <th>departure_ts</th>\n",
              "      <th>arrival_ts</th>\n",
              "      <th>price_in_cents</th>\n",
              "      <th>search_ts</th>\n",
              "      <th>middle_stations</th>\n",
              "      <th>other_companies</th>\n",
              "      <th>duree</th>\n",
              "      <th>o_local_name</th>\n",
              "      <th>o_city</th>\n",
              "      <th>o_latitude</th>\n",
              "      <th>o_longitude</th>\n",
              "      <th>d_local_name</th>\n",
              "      <th>d_city</th>\n",
              "      <th>d_latitude</th>\n",
              "      <th>d_longitude</th>\n",
              "    </tr>\n",
              "  </thead>\n",
              "  <tbody>\n",
              "    <tr>\n",
              "      <th>0</th>\n",
              "      <td>8385</td>\n",
              "      <td>2017-10-13 14:00:00+00:00</td>\n",
              "      <td>2017-10-13 20:10:00+00:00</td>\n",
              "      <td>4550</td>\n",
              "      <td>2017-10-01 00:13:31.327000+00:00</td>\n",
              "      <td>NaN</td>\n",
              "      <td>NaN</td>\n",
              "      <td>0 days 06:10:00</td>\n",
              "      <td>Orléans, Centre-Val de Loire, France</td>\n",
              "      <td>orleans</td>\n",
              "      <td>47.907018</td>\n",
              "      <td>1.90627</td>\n",
              "      <td>Montpellier, Occitanie, France</td>\n",
              "      <td>montpellier</td>\n",
              "      <td>43.604452</td>\n",
              "      <td>3.918318</td>\n",
              "    </tr>\n",
              "    <tr>\n",
              "      <th>1</th>\n",
              "      <td>9</td>\n",
              "      <td>2017-10-13 13:05:00+00:00</td>\n",
              "      <td>2017-10-14 06:55:00+00:00</td>\n",
              "      <td>1450</td>\n",
              "      <td>2017-10-01 00:13:35.773000+00:00</td>\n",
              "      <td>{149,418}</td>\n",
              "      <td>{13}</td>\n",
              "      <td>0 days 17:50:00</td>\n",
              "      <td>Orléans, Centre-Val de Loire, France</td>\n",
              "      <td>orleans</td>\n",
              "      <td>47.907018</td>\n",
              "      <td>1.90627</td>\n",
              "      <td>Montpellier, Occitanie, France</td>\n",
              "      <td>montpellier</td>\n",
              "      <td>43.604452</td>\n",
              "      <td>3.918318</td>\n",
              "    </tr>\n",
              "    <tr>\n",
              "      <th>2</th>\n",
              "      <td>8377</td>\n",
              "      <td>2017-10-13 13:27:00+00:00</td>\n",
              "      <td>2017-10-14 21:24:00+00:00</td>\n",
              "      <td>7400</td>\n",
              "      <td>2017-10-01 00:13:40.212000+00:00</td>\n",
              "      <td>{798,798,6794,6246}</td>\n",
              "      <td>{8377,8376}</td>\n",
              "      <td>1 days 07:57:00</td>\n",
              "      <td>Orléans, Centre-Val de Loire, France</td>\n",
              "      <td>orleans</td>\n",
              "      <td>47.907018</td>\n",
              "      <td>1.90627</td>\n",
              "      <td>Montpellier, Occitanie, France</td>\n",
              "      <td>montpellier</td>\n",
              "      <td>43.604452</td>\n",
              "      <td>3.918318</td>\n",
              "    </tr>\n",
              "    <tr>\n",
              "      <th>3</th>\n",
              "      <td>8377</td>\n",
              "      <td>2017-10-13 13:27:00+00:00</td>\n",
              "      <td>2017-10-14 11:02:00+00:00</td>\n",
              "      <td>13500</td>\n",
              "      <td>2017-10-01 00:13:40.213000+00:00</td>\n",
              "      <td>{798,798,6794,6246}</td>\n",
              "      <td>{8377,8376}</td>\n",
              "      <td>0 days 21:35:00</td>\n",
              "      <td>Orléans, Centre-Val de Loire, France</td>\n",
              "      <td>orleans</td>\n",
              "      <td>47.907018</td>\n",
              "      <td>1.90627</td>\n",
              "      <td>Montpellier, Occitanie, France</td>\n",
              "      <td>montpellier</td>\n",
              "      <td>43.604452</td>\n",
              "      <td>3.918318</td>\n",
              "    </tr>\n",
              "    <tr>\n",
              "      <th>4</th>\n",
              "      <td>8381</td>\n",
              "      <td>2017-10-13 21:46:00+00:00</td>\n",
              "      <td>2017-10-14 19:32:00+00:00</td>\n",
              "      <td>7710</td>\n",
              "      <td>2017-10-01 00:13:40.213000+00:00</td>\n",
              "      <td>{5983,5983}</td>\n",
              "      <td>{8380}</td>\n",
              "      <td>0 days 21:46:00</td>\n",
              "      <td>Orléans, Centre-Val de Loire, France</td>\n",
              "      <td>orleans</td>\n",
              "      <td>47.907018</td>\n",
              "      <td>1.90627</td>\n",
              "      <td>Montpellier, Occitanie, France</td>\n",
              "      <td>montpellier</td>\n",
              "      <td>43.604452</td>\n",
              "      <td>3.918318</td>\n",
              "    </tr>\n",
              "  </tbody>\n",
              "</table>\n",
              "</div>"
            ],
            "text/plain": [
              "   company              departure_ts  ... d_latitude  d_longitude\n",
              "0     8385 2017-10-13 14:00:00+00:00  ...  43.604452     3.918318\n",
              "1        9 2017-10-13 13:05:00+00:00  ...  43.604452     3.918318\n",
              "2     8377 2017-10-13 13:27:00+00:00  ...  43.604452     3.918318\n",
              "3     8377 2017-10-13 13:27:00+00:00  ...  43.604452     3.918318\n",
              "4     8381 2017-10-13 21:46:00+00:00  ...  43.604452     3.918318\n",
              "\n",
              "[5 rows x 16 columns]"
            ]
          },
          "metadata": {
            "tags": []
          },
          "execution_count": 11
        }
      ]
    },
    {
      "cell_type": "code",
      "metadata": {
        "id": "QQV2rCfeaZuK",
        "colab_type": "code",
        "colab": {}
      },
      "source": [
        "wgs84_geod = Geod(ellps='WGS84') #Mesure de la distance sur l'ellipsoid - plus precise que la methode spherique\n",
        "\n",
        "#Get distance between pairs of lat-lon points\n",
        "def Distance(lat1,lon1,lat2,lon2):\n",
        "  az12,az21,dist = wgs84_geod.inv(lon1,lat1,lon2,lat2) #Yes, this order is correct\n",
        "  return dist"
      ],
      "execution_count": 0,
      "outputs": []
    },
    {
      "cell_type": "code",
      "metadata": {
        "id": "8I81IXWYbWXg",
        "colab_type": "code",
        "colab": {}
      },
      "source": [
        "#Création d'une nouvelle colonne : distance sur city (o_city et d_city sont tous non nul contrairement à o_station et d_station)\n",
        "merged_d['distance'] = Distance(merged_d['o_latitude'].tolist(),merged_d['o_longitude'].tolist(),merged_d['d_latitude'].tolist(),merged_d['d_longitude'].tolist())\n",
        "\n",
        "#to km\n",
        "merged_d['distance'] = merged_d['distance'] /1000"
      ],
      "execution_count": 0,
      "outputs": []
    },
    {
      "cell_type": "code",
      "metadata": {
        "id": "Q4EHBjoMbq7Q",
        "colab_type": "code",
        "colab": {
          "base_uri": "https://localhost:8080/",
          "height": 394
        },
        "outputId": "3f737977-2735-4ae7-b02f-17057efad8d5"
      },
      "source": [
        "merged_d.head()"
      ],
      "execution_count": 15,
      "outputs": [
        {
          "output_type": "execute_result",
          "data": {
            "text/html": [
              "<div>\n",
              "<style scoped>\n",
              "    .dataframe tbody tr th:only-of-type {\n",
              "        vertical-align: middle;\n",
              "    }\n",
              "\n",
              "    .dataframe tbody tr th {\n",
              "        vertical-align: top;\n",
              "    }\n",
              "\n",
              "    .dataframe thead th {\n",
              "        text-align: right;\n",
              "    }\n",
              "</style>\n",
              "<table border=\"1\" class=\"dataframe\">\n",
              "  <thead>\n",
              "    <tr style=\"text-align: right;\">\n",
              "      <th></th>\n",
              "      <th>company</th>\n",
              "      <th>departure_ts</th>\n",
              "      <th>arrival_ts</th>\n",
              "      <th>price_in_cents</th>\n",
              "      <th>search_ts</th>\n",
              "      <th>middle_stations</th>\n",
              "      <th>other_companies</th>\n",
              "      <th>duree</th>\n",
              "      <th>o_local_name</th>\n",
              "      <th>o_city</th>\n",
              "      <th>o_latitude</th>\n",
              "      <th>o_longitude</th>\n",
              "      <th>d_local_name</th>\n",
              "      <th>d_city</th>\n",
              "      <th>d_latitude</th>\n",
              "      <th>d_longitude</th>\n",
              "      <th>distance</th>\n",
              "    </tr>\n",
              "  </thead>\n",
              "  <tbody>\n",
              "    <tr>\n",
              "      <th>0</th>\n",
              "      <td>8385</td>\n",
              "      <td>2017-10-13 14:00:00+00:00</td>\n",
              "      <td>2017-10-13 20:10:00+00:00</td>\n",
              "      <td>4550</td>\n",
              "      <td>2017-10-01 00:13:31.327000+00:00</td>\n",
              "      <td>NaN</td>\n",
              "      <td>NaN</td>\n",
              "      <td>0 days 06:10:00</td>\n",
              "      <td>Orléans, Centre-Val de Loire, France</td>\n",
              "      <td>orleans</td>\n",
              "      <td>47.907018</td>\n",
              "      <td>1.90627</td>\n",
              "      <td>Montpellier, Occitanie, France</td>\n",
              "      <td>montpellier</td>\n",
              "      <td>43.604452</td>\n",
              "      <td>3.918318</td>\n",
              "      <td>503.136831</td>\n",
              "    </tr>\n",
              "    <tr>\n",
              "      <th>1</th>\n",
              "      <td>9</td>\n",
              "      <td>2017-10-13 13:05:00+00:00</td>\n",
              "      <td>2017-10-14 06:55:00+00:00</td>\n",
              "      <td>1450</td>\n",
              "      <td>2017-10-01 00:13:35.773000+00:00</td>\n",
              "      <td>{149,418}</td>\n",
              "      <td>{13}</td>\n",
              "      <td>0 days 17:50:00</td>\n",
              "      <td>Orléans, Centre-Val de Loire, France</td>\n",
              "      <td>orleans</td>\n",
              "      <td>47.907018</td>\n",
              "      <td>1.90627</td>\n",
              "      <td>Montpellier, Occitanie, France</td>\n",
              "      <td>montpellier</td>\n",
              "      <td>43.604452</td>\n",
              "      <td>3.918318</td>\n",
              "      <td>503.136831</td>\n",
              "    </tr>\n",
              "    <tr>\n",
              "      <th>2</th>\n",
              "      <td>8377</td>\n",
              "      <td>2017-10-13 13:27:00+00:00</td>\n",
              "      <td>2017-10-14 21:24:00+00:00</td>\n",
              "      <td>7400</td>\n",
              "      <td>2017-10-01 00:13:40.212000+00:00</td>\n",
              "      <td>{798,798,6794,6246}</td>\n",
              "      <td>{8377,8376}</td>\n",
              "      <td>1 days 07:57:00</td>\n",
              "      <td>Orléans, Centre-Val de Loire, France</td>\n",
              "      <td>orleans</td>\n",
              "      <td>47.907018</td>\n",
              "      <td>1.90627</td>\n",
              "      <td>Montpellier, Occitanie, France</td>\n",
              "      <td>montpellier</td>\n",
              "      <td>43.604452</td>\n",
              "      <td>3.918318</td>\n",
              "      <td>503.136831</td>\n",
              "    </tr>\n",
              "    <tr>\n",
              "      <th>3</th>\n",
              "      <td>8377</td>\n",
              "      <td>2017-10-13 13:27:00+00:00</td>\n",
              "      <td>2017-10-14 11:02:00+00:00</td>\n",
              "      <td>13500</td>\n",
              "      <td>2017-10-01 00:13:40.213000+00:00</td>\n",
              "      <td>{798,798,6794,6246}</td>\n",
              "      <td>{8377,8376}</td>\n",
              "      <td>0 days 21:35:00</td>\n",
              "      <td>Orléans, Centre-Val de Loire, France</td>\n",
              "      <td>orleans</td>\n",
              "      <td>47.907018</td>\n",
              "      <td>1.90627</td>\n",
              "      <td>Montpellier, Occitanie, France</td>\n",
              "      <td>montpellier</td>\n",
              "      <td>43.604452</td>\n",
              "      <td>3.918318</td>\n",
              "      <td>503.136831</td>\n",
              "    </tr>\n",
              "    <tr>\n",
              "      <th>4</th>\n",
              "      <td>8381</td>\n",
              "      <td>2017-10-13 21:46:00+00:00</td>\n",
              "      <td>2017-10-14 19:32:00+00:00</td>\n",
              "      <td>7710</td>\n",
              "      <td>2017-10-01 00:13:40.213000+00:00</td>\n",
              "      <td>{5983,5983}</td>\n",
              "      <td>{8380}</td>\n",
              "      <td>0 days 21:46:00</td>\n",
              "      <td>Orléans, Centre-Val de Loire, France</td>\n",
              "      <td>orleans</td>\n",
              "      <td>47.907018</td>\n",
              "      <td>1.90627</td>\n",
              "      <td>Montpellier, Occitanie, France</td>\n",
              "      <td>montpellier</td>\n",
              "      <td>43.604452</td>\n",
              "      <td>3.918318</td>\n",
              "      <td>503.136831</td>\n",
              "    </tr>\n",
              "  </tbody>\n",
              "</table>\n",
              "</div>"
            ],
            "text/plain": [
              "   company              departure_ts  ... d_longitude    distance\n",
              "0     8385 2017-10-13 14:00:00+00:00  ...    3.918318  503.136831\n",
              "1        9 2017-10-13 13:05:00+00:00  ...    3.918318  503.136831\n",
              "2     8377 2017-10-13 13:27:00+00:00  ...    3.918318  503.136831\n",
              "3     8377 2017-10-13 13:27:00+00:00  ...    3.918318  503.136831\n",
              "4     8381 2017-10-13 21:46:00+00:00  ...    3.918318  503.136831\n",
              "\n",
              "[5 rows x 17 columns]"
            ]
          },
          "metadata": {
            "tags": []
          },
          "execution_count": 15
        }
      ]
    },
    {
      "cell_type": "markdown",
      "metadata": {
        "id": "uB2eEFrkqGp5",
        "colab_type": "text"
      },
      "source": [
        "##3.**Reponse mission**"
      ]
    },
    {
      "cell_type": "markdown",
      "metadata": {
        "id": "_aI7EV7B1Chv",
        "colab_type": "text"
      },
      "source": [
        "##Mission 1"
      ]
    },
    {
      "cell_type": "code",
      "metadata": {
        "id": "xD4wTvt2zR6U",
        "colab_type": "code",
        "outputId": "517f8fab-63e1-47e7-d6e8-ab2f1590c50b",
        "colab": {
          "base_uri": "https://localhost:8080/",
          "height": 297
        }
      },
      "source": [
        "ticket[['price_in_cents', 'duree']].describe(include='all')"
      ],
      "execution_count": 16,
      "outputs": [
        {
          "output_type": "execute_result",
          "data": {
            "text/html": [
              "<div>\n",
              "<style scoped>\n",
              "    .dataframe tbody tr th:only-of-type {\n",
              "        vertical-align: middle;\n",
              "    }\n",
              "\n",
              "    .dataframe tbody tr th {\n",
              "        vertical-align: top;\n",
              "    }\n",
              "\n",
              "    .dataframe thead th {\n",
              "        text-align: right;\n",
              "    }\n",
              "</style>\n",
              "<table border=\"1\" class=\"dataframe\">\n",
              "  <thead>\n",
              "    <tr style=\"text-align: right;\">\n",
              "      <th></th>\n",
              "      <th>price_in_cents</th>\n",
              "      <th>duree</th>\n",
              "    </tr>\n",
              "  </thead>\n",
              "  <tbody>\n",
              "    <tr>\n",
              "      <th>count</th>\n",
              "      <td>74168.000000</td>\n",
              "      <td>74168</td>\n",
              "    </tr>\n",
              "    <tr>\n",
              "      <th>mean</th>\n",
              "      <td>4382.711061</td>\n",
              "      <td>0 days 07:04:37.247600</td>\n",
              "    </tr>\n",
              "    <tr>\n",
              "      <th>std</th>\n",
              "      <td>3739.325367</td>\n",
              "      <td>0 days 09:54:58.881351</td>\n",
              "    </tr>\n",
              "    <tr>\n",
              "      <th>min</th>\n",
              "      <td>300.000000</td>\n",
              "      <td>0 days 00:20:00</td>\n",
              "    </tr>\n",
              "    <tr>\n",
              "      <th>25%</th>\n",
              "      <td>1900.000000</td>\n",
              "      <td>0 days 03:00:00</td>\n",
              "    </tr>\n",
              "    <tr>\n",
              "      <th>50%</th>\n",
              "      <td>3350.000000</td>\n",
              "      <td>0 days 04:50:00</td>\n",
              "    </tr>\n",
              "    <tr>\n",
              "      <th>75%</th>\n",
              "      <td>5250.000000</td>\n",
              "      <td>0 days 08:00:00</td>\n",
              "    </tr>\n",
              "    <tr>\n",
              "      <th>max</th>\n",
              "      <td>38550.000000</td>\n",
              "      <td>20 days 12:51:00</td>\n",
              "    </tr>\n",
              "  </tbody>\n",
              "</table>\n",
              "</div>"
            ],
            "text/plain": [
              "       price_in_cents                   duree\n",
              "count    74168.000000                   74168\n",
              "mean      4382.711061  0 days 07:04:37.247600\n",
              "std       3739.325367  0 days 09:54:58.881351\n",
              "min        300.000000         0 days 00:20:00\n",
              "25%       1900.000000         0 days 03:00:00\n",
              "50%       3350.000000         0 days 04:50:00\n",
              "75%       5250.000000         0 days 08:00:00\n",
              "max      38550.000000        20 days 12:51:00"
            ]
          },
          "metadata": {
            "tags": []
          },
          "execution_count": 16
        }
      ]
    },
    {
      "cell_type": "code",
      "metadata": {
        "id": "mCvcEkDoPgsR",
        "colab_type": "code",
        "outputId": "12d75dbe-b375-43ac-dea6-8abcaf9449bb",
        "colab": {
          "base_uri": "https://localhost:8080/",
          "height": 221
        }
      },
      "source": [
        "#réponse à la première mission\n",
        "prix_min = ticket['price_in_cents'].min()\n",
        "prix_max = ticket['price_in_cents'].max()\n",
        "prix_moy = ticket['price_in_cents'].mean()\n",
        "\n",
        "duree_min = ticket['duree'].describe(include='all')[3]\n",
        "duree_max = ticket['duree'].describe(include='all')[-1]\n",
        "duree_moy = ticket['duree'].describe(include='all')[1]\n",
        "\n",
        "print('le prix min est:', prix_min, '\\n')\n",
        "print('le prix moyen est', prix_moy, '\\n')\n",
        "print('le prix max est', prix_max, '\\n------------')\n",
        "print('le durée min est:', duree_min, '\\n')\n",
        "print('le durée moyen est', duree_moy, '\\n')\n",
        "print('le durée max est:', duree_max, '\\n')\n"
      ],
      "execution_count": 17,
      "outputs": [
        {
          "output_type": "stream",
          "text": [
            "le prix min est: 300 \n",
            "\n",
            "le prix moyen est 4382.711061374178 \n",
            "\n",
            "le prix max est 38550 \n",
            "------------\n",
            "le durée min est: 0 days 00:20:00 \n",
            "\n",
            "le durée moyen est 0 days 07:04:37.247600 \n",
            "\n",
            "le durée max est: 20 days 12:51:00 \n",
            "\n"
          ],
          "name": "stdout"
        }
      ]
    },
    {
      "cell_type": "markdown",
      "metadata": {
        "id": "XdQYa1d6XuEJ",
        "colab_type": "text"
      },
      "source": [
        "On remarque une durée max de 20 jours, c'est trop! donc on va chercher la raison derrière ce resultat"
      ]
    },
    {
      "cell_type": "code",
      "metadata": {
        "id": "n6UBa82vXtW9",
        "colab_type": "code",
        "outputId": "8472acb3-999d-4e22-d7e7-20c62d15ee4e",
        "colab": {
          "base_uri": "https://localhost:8080/",
          "height": 34
        }
      },
      "source": [
        "#combien de trajet avec plus de 3 jours?\n",
        "index1= ticket[ticket['duree'] > timedelta(days=3)].index\n",
        "len(index1)"
      ],
      "execution_count": 18,
      "outputs": [
        {
          "output_type": "execute_result",
          "data": {
            "text/plain": [
              "55"
            ]
          },
          "metadata": {
            "tags": []
          },
          "execution_count": 18
        }
      ]
    },
    {
      "cell_type": "markdown",
      "metadata": {
        "id": "Ub1pHJq_0Lt5",
        "colab_type": "text"
      },
      "source": [
        "Il exite 55 trajets de +3 jours ! prenons l'exmple du trajet avec une durée de 20jours et cherchons l'origine, la destination et le type du moyen de transport"
      ]
    },
    {
      "cell_type": "code",
      "metadata": {
        "id": "k7jezoiPQfza",
        "colab_type": "code",
        "outputId": "4af8da35-575d-4079-df7e-3e9fb8ecbe40",
        "colab": {
          "base_uri": "https://localhost:8080/",
          "height": 148
        }
      },
      "source": [
        "#on utlisie loc pour trouver l'id (car c'est un type object)\n",
        "index2= ticket[ticket['duree'] == ticket.duree.max()].index\n",
        "ticket.loc[index2]\n"
      ],
      "execution_count": 19,
      "outputs": [
        {
          "output_type": "execute_result",
          "data": {
            "text/html": [
              "<div>\n",
              "<style scoped>\n",
              "    .dataframe tbody tr th:only-of-type {\n",
              "        vertical-align: middle;\n",
              "    }\n",
              "\n",
              "    .dataframe tbody tr th {\n",
              "        vertical-align: top;\n",
              "    }\n",
              "\n",
              "    .dataframe thead th {\n",
              "        text-align: right;\n",
              "    }\n",
              "</style>\n",
              "<table border=\"1\" class=\"dataframe\">\n",
              "  <thead>\n",
              "    <tr style=\"text-align: right;\">\n",
              "      <th></th>\n",
              "      <th>company</th>\n",
              "      <th>o_station</th>\n",
              "      <th>d_station</th>\n",
              "      <th>departure_ts</th>\n",
              "      <th>arrival_ts</th>\n",
              "      <th>price_in_cents</th>\n",
              "      <th>search_ts</th>\n",
              "      <th>middle_stations</th>\n",
              "      <th>other_companies</th>\n",
              "      <th>o_city</th>\n",
              "      <th>d_city</th>\n",
              "      <th>duree</th>\n",
              "    </tr>\n",
              "    <tr>\n",
              "      <th>id</th>\n",
              "      <th></th>\n",
              "      <th></th>\n",
              "      <th></th>\n",
              "      <th></th>\n",
              "      <th></th>\n",
              "      <th></th>\n",
              "      <th></th>\n",
              "      <th></th>\n",
              "      <th></th>\n",
              "      <th></th>\n",
              "      <th></th>\n",
              "      <th></th>\n",
              "    </tr>\n",
              "  </thead>\n",
              "  <tbody>\n",
              "    <tr>\n",
              "      <th>6800200</th>\n",
              "      <td>8372</td>\n",
              "      <td>860.0</td>\n",
              "      <td>396.0</td>\n",
              "      <td>2017-10-27 23:59:00+00:00</td>\n",
              "      <td>2017-11-17 12:50:00+00:00</td>\n",
              "      <td>3200</td>\n",
              "      <td>2017-10-02 20:39:10.750000+00:00</td>\n",
              "      <td>{10760,10144}</td>\n",
              "      <td>{9}</td>\n",
              "      <td>126</td>\n",
              "      <td>453</td>\n",
              "      <td>20 days 12:51:00</td>\n",
              "    </tr>\n",
              "  </tbody>\n",
              "</table>\n",
              "</div>"
            ],
            "text/plain": [
              "         company  o_station  d_station  ... o_city d_city            duree\n",
              "id                                      ...                               \n",
              "6800200     8372      860.0      396.0  ...    126    453 20 days 12:51:00\n",
              "\n",
              "[1 rows x 12 columns]"
            ]
          },
          "metadata": {
            "tags": []
          },
          "execution_count": 19
        }
      ]
    },
    {
      "cell_type": "code",
      "metadata": {
        "id": "8WbPQiWqdMdA",
        "colab_type": "code",
        "outputId": "0d25fae2-fa98-4b94-d56b-4b7d3fd26309",
        "colab": {
          "base_uri": "https://localhost:8080/",
          "height": 102
        }
      },
      "source": [
        "print('la societe est', provider['fullname'].loc[int(ticket.loc[index2].company)])\n",
        "\n",
        "print('la ville de depart est', city['unique_name'].loc[int(ticket.loc[index2].o_city)])\n",
        "print('la station de depart est', station['unique_name'].loc[int(ticket.loc[index2].o_station)])\n",
        "\n",
        "print('la ville d\\'arivée est', city['unique_name'].loc[int(ticket.loc[index2].d_city)])\n",
        "print('la station d\\'arivée est', station['unique_name'].loc[int(ticket.loc[index2].d_station)])"
      ],
      "execution_count": 20,
      "outputs": [
        {
          "output_type": "stream",
          "text": [
            "la societe est Eurolines\n",
            "la ville de depart est bordeaux\n",
            "la station de depart est Parking Château Descas\n",
            "la ville d'arivée est lille\n",
            "la station d'arivée est Gare Lille-Europe\n"
          ],
          "name": "stdout"
        }
      ]
    },
    {
      "cell_type": "markdown",
      "metadata": {
        "id": "2vSTu8Gr1IWO",
        "colab_type": "text"
      },
      "source": [
        "Le trajet parrait normal ... la raison de la longeur du temps est à creuser encore plus!"
      ]
    },
    {
      "cell_type": "code",
      "metadata": {
        "id": "b5I9bN6WgLBh",
        "colab_type": "code",
        "colab": {
          "base_uri": "https://localhost:8080/",
          "height": 151
        },
        "outputId": "1bb7499b-d3c3-4a9f-ee4f-36c84bc29721"
      },
      "source": [
        "#(merged_d['o_city'] == 'bordeaux') & (merged_d['d_city'] == 'lille') & (merged_d['company'] == 8372)\n",
        "merged_d[merged_d['duree'] == merged_d['duree'].max()]"
      ],
      "execution_count": 21,
      "outputs": [
        {
          "output_type": "execute_result",
          "data": {
            "text/html": [
              "<div>\n",
              "<style scoped>\n",
              "    .dataframe tbody tr th:only-of-type {\n",
              "        vertical-align: middle;\n",
              "    }\n",
              "\n",
              "    .dataframe tbody tr th {\n",
              "        vertical-align: top;\n",
              "    }\n",
              "\n",
              "    .dataframe thead th {\n",
              "        text-align: right;\n",
              "    }\n",
              "</style>\n",
              "<table border=\"1\" class=\"dataframe\">\n",
              "  <thead>\n",
              "    <tr style=\"text-align: right;\">\n",
              "      <th></th>\n",
              "      <th>company</th>\n",
              "      <th>departure_ts</th>\n",
              "      <th>arrival_ts</th>\n",
              "      <th>price_in_cents</th>\n",
              "      <th>search_ts</th>\n",
              "      <th>middle_stations</th>\n",
              "      <th>other_companies</th>\n",
              "      <th>duree</th>\n",
              "      <th>o_local_name</th>\n",
              "      <th>o_city</th>\n",
              "      <th>o_latitude</th>\n",
              "      <th>o_longitude</th>\n",
              "      <th>d_local_name</th>\n",
              "      <th>d_city</th>\n",
              "      <th>d_latitude</th>\n",
              "      <th>d_longitude</th>\n",
              "      <th>distance</th>\n",
              "    </tr>\n",
              "  </thead>\n",
              "  <tbody>\n",
              "    <tr>\n",
              "      <th>35423</th>\n",
              "      <td>8372</td>\n",
              "      <td>2017-10-27 23:59:00+00:00</td>\n",
              "      <td>2017-11-17 12:50:00+00:00</td>\n",
              "      <td>3200</td>\n",
              "      <td>2017-10-02 20:39:10.750000+00:00</td>\n",
              "      <td>{10760,10144}</td>\n",
              "      <td>{9}</td>\n",
              "      <td>20 days 12:51:00</td>\n",
              "      <td>Bordeaux, Nouvelle-Aquitaine, France</td>\n",
              "      <td>bordeaux</td>\n",
              "      <td>44.83357</td>\n",
              "      <td>-0.573845</td>\n",
              "      <td>Lille, Hauts-de-France, France</td>\n",
              "      <td>lille</td>\n",
              "      <td>50.638756</td>\n",
              "      <td>3.076675</td>\n",
              "      <td>700.902848</td>\n",
              "    </tr>\n",
              "  </tbody>\n",
              "</table>\n",
              "</div>"
            ],
            "text/plain": [
              "       company              departure_ts  ... d_longitude    distance\n",
              "35423     8372 2017-10-27 23:59:00+00:00  ...    3.076675  700.902848\n",
              "\n",
              "[1 rows x 17 columns]"
            ]
          },
          "metadata": {
            "tags": []
          },
          "execution_count": 21
        }
      ]
    },
    {
      "cell_type": "code",
      "metadata": {
        "id": "kQe4NDEgdYrm",
        "colab_type": "code",
        "colab": {
          "base_uri": "https://localhost:8080/",
          "height": 51
        },
        "outputId": "93876b93-e3de-4989-8a04-36e568985581"
      },
      "source": [
        "#cross validation entre nom des villes et leur coordonées\n",
        "address_o = 'Bordeaux, France'\n",
        "address_d = 'Lille, France'\n",
        "\n",
        "geolocator = Nominatim(user_agent=\"tictactrip_explore\")\n",
        "\n",
        "location_o = geolocator.geocode(address_o)\n",
        "location_d = geolocator.geocode(address_d)\n",
        "\n",
        "latitude_o = location_o.latitude\n",
        "longitude_o = location_o.longitude\n",
        "latitude_d = location_d.latitude\n",
        "longitude_d = location_d.longitude\n",
        "\n",
        "#je n'utilise le ' == ' pour retourner un booléen car y'as une petit marge d'erreur\n",
        "print(latitude_o, longitude_o)\n",
        "print(latitude_d, longitude_d)"
      ],
      "execution_count": 41,
      "outputs": [
        {
          "output_type": "stream",
          "text": [
            "44.841225 -0.5800364\n",
            "50.6365654 3.0635282\n"
          ],
          "name": "stdout"
        }
      ]
    },
    {
      "cell_type": "markdown",
      "metadata": {
        "id": "a3g_0GRCkgG7",
        "colab_type": "text"
      },
      "source": [
        "Tout semble encore une fois correcte : la distance, les coordonées, ... c'est donc soit une faute d'enregistrement, soit les voyageurs etait en escale sur tout le long du trajet.\n"
      ]
    },
    {
      "cell_type": "markdown",
      "metadata": {
        "id": "CtltUf9v1FhG",
        "colab_type": "text"
      },
      "source": [
        "##Mission 2"
      ]
    },
    {
      "cell_type": "markdown",
      "metadata": {
        "id": "HeTixaLE9IAc",
        "colab_type": "text"
      },
      "source": [
        "différence de prix moyen et durée selon le train, le bus et le covoiturage"
      ]
    },
    {
      "cell_type": "code",
      "metadata": {
        "id": "zAbTmF291-sL",
        "colab_type": "code",
        "outputId": "e71220a9-3783-4606-e327-93b8fb1a88eb",
        "colab": {
          "base_uri": "https://localhost:8080/",
          "height": 102
        }
      },
      "source": [
        "merged.groupby('transport_type')['price_in_cents'].mean()"
      ],
      "execution_count": 22,
      "outputs": [
        {
          "output_type": "execute_result",
          "data": {
            "text/plain": [
              "transport_type\n",
              "bus           3652.448036\n",
              "carpooling    2742.171907\n",
              "train         8506.634793\n",
              "Name: price_in_cents, dtype: float64"
            ]
          },
          "metadata": {
            "tags": []
          },
          "execution_count": 22
        }
      ]
    },
    {
      "cell_type": "markdown",
      "metadata": {
        "id": "veGk3IBS9Lob",
        "colab_type": "text"
      },
      "source": [
        "traçons la différence de la durée selon le type du trajet"
      ]
    },
    {
      "cell_type": "code",
      "metadata": {
        "id": "DJ5c02Rx0z8j",
        "colab_type": "code",
        "outputId": "1939d9da-9cfa-4b86-fc8d-9759401af981",
        "colab": {
          "base_uri": "https://localhost:8080/",
          "height": 297
        }
      },
      "source": [
        "%matplotlib inline\n",
        "merged['duree_hours'] = merged.duree.dt.components.hours + (merged.duree.dt.components.minutes / 60) + merged.duree.dt.components.days * 24\n",
        "sns.boxplot(x='transport_type', y='duree_hours', data= merged)"
      ],
      "execution_count": 23,
      "outputs": [
        {
          "output_type": "execute_result",
          "data": {
            "text/plain": [
              "<matplotlib.axes._subplots.AxesSubplot at 0x7f756adeffd0>"
            ]
          },
          "metadata": {
            "tags": []
          },
          "execution_count": 23
        },
        {
          "output_type": "display_data",
          "data": {
            "image/png": "[encoded data removed]",
            "text/plain": [
              "<Figure size 432x288 with 1 Axes>"
            ]
          },
          "metadata": {
            "tags": [],
            "needs_background": "light"
          }
        }
      ]
    },
    {
      "cell_type": "markdown",
      "metadata": {
        "id": "9VwkHYq99UZP",
        "colab_type": "text"
      },
      "source": [
        "Le graph confirme l'observation de tout à l'heure: il existe des entrées de données (voyage) très grandes et differentes par rapport aux autres. c'est des outliers. prenons soit de celà! "
      ]
    },
    {
      "cell_type": "code",
      "metadata": {
        "id": "kW_AesQ87MYr",
        "colab_type": "code",
        "outputId": "fd0367fc-ff02-4c53-ca04-f3936d5ad3e7",
        "colab": {
          "base_uri": "https://localhost:8080/",
          "height": 313
        }
      },
      "source": [
        "sns.boxplot(x='transport_type', y='duree_hours', data= merged,  showfliers = False)\n",
        "plt.title('différence de la durée selon le type du transport')"
      ],
      "execution_count": 24,
      "outputs": [
        {
          "output_type": "execute_result",
          "data": {
            "text/plain": [
              "Text(0.5, 1.0, 'différence de la durée selon le type du transport')"
            ]
          },
          "metadata": {
            "tags": []
          },
          "execution_count": 24
        },
        {
          "output_type": "display_data",
          "data": {
            "image/png": "[encoded data removed]",
            "text/plain": [
              "<Figure size 432x288 with 1 Axes>"
            ]
          },
          "metadata": {
            "tags": [],
            "needs_background": "light"
          }
        }
      ]
    },
    {
      "cell_type": "markdown",
      "metadata": {
        "id": "mHca1XmJ-ZKC",
        "colab_type": "text"
      },
      "source": [
        "Le resultat est prévisible: le bus prend le plus de temps, suivi par le train et puis le covoiturage.\n",
        "Interessons nous maintenant au prix."
      ]
    },
    {
      "cell_type": "code",
      "metadata": {
        "id": "_QJ_1BMO9wOl",
        "colab_type": "code",
        "outputId": "dc92ad39-1489-4b83-e263-522728ae3196",
        "colab": {
          "base_uri": "https://localhost:8080/",
          "height": 313
        }
      },
      "source": [
        "sns.boxplot(x='transport_type', y='price_in_cents', data= merged)\n",
        "plt.title('différence du prix selon le type du transport')"
      ],
      "execution_count": 25,
      "outputs": [
        {
          "output_type": "execute_result",
          "data": {
            "text/plain": [
              "Text(0.5, 1.0, 'différence du prix selon le type du transport')"
            ]
          },
          "metadata": {
            "tags": []
          },
          "execution_count": 25
        },
        {
          "output_type": "display_data",
          "data": {
            "image/png": "[encoded data removed]",
            "text/plain": [
              "<Figure size 432x288 with 1 Axes>"
            ]
          },
          "metadata": {
            "tags": [],
            "needs_background": "light"
          }
        }
      ]
    },
    {
      "cell_type": "markdown",
      "metadata": {
        "id": "RV-3j-Ys-hZG",
        "colab_type": "text"
      },
      "source": [
        "Le train est le plus cher et la covoiturage est le moins cher ... tout semble correct!"
      ]
    },
    {
      "cell_type": "markdown",
      "metadata": {
        "id": "ZLfF2QK5k2za",
        "colab_type": "text"
      },
      "source": [
        "###Maintenant selon la distance"
      ]
    },
    {
      "cell_type": "code",
      "metadata": {
        "id": "IuegAImprDIc",
        "colab_type": "code",
        "colab": {
          "base_uri": "https://localhost:8080/",
          "height": 303
        },
        "outputId": "15cd54f7-9395-4761-e963-1324faf43be9"
      },
      "source": [
        "sns.set(color_codes=True)\n",
        "sns.regplot(x='distance', y='price_in_cents', data=merged_d)"
      ],
      "execution_count": 33,
      "outputs": [
        {
          "output_type": "execute_result",
          "data": {
            "text/plain": [
              "<matplotlib.axes._subplots.AxesSubplot at 0x7f75651a0cf8>"
            ]
          },
          "metadata": {
            "tags": []
          },
          "execution_count": 33
        },
        {
          "output_type": "display_data",
          "data": {
            "image/png": "[encoded data removed]",
            "text/plain": [
              "<Figure size 432x288 with 1 Axes>"
            ]
          },
          "metadata": {
            "tags": []
          }
        }
      ]
    },
    {
      "cell_type": "markdown",
      "metadata": {
        "id": "YVtZrZi-s6hQ",
        "colab_type": "text"
      },
      "source": [
        "Le prix auguemente avec la distance. Resultat logique!"
      ]
    },
    {
      "cell_type": "markdown",
      "metadata": {
        "id": "G8_lkllT-pe_",
        "colab_type": "text"
      },
      "source": [
        "### Pour le fun, traçons une cartographie des stations étudiée en Europe"
      ]
    },
    {
      "cell_type": "code",
      "metadata": {
        "id": "ApKthrfv22EV",
        "colab_type": "code",
        "outputId": "a5b48a3c-a6db-4186-efdd-1b190a921940",
        "colab": {
          "base_uri": "https://localhost:8080/",
          "height": 712
        }
      },
      "source": [
        "m = folium.Map([46.2276, 2.2137], zoom_start=5)\n",
        "m"
      ],
      "execution_count": 44,
      "outputs": [
        {
          "output_type": "execute_result",
          "data": {
            "text/html": [
              "<div style=\"width:100%;\"><div style=\"position:relative;width:100%;height:0;padding-bottom:60%;\"><span style=\"color:#565656\">Make this Notebook Trusted to load map: File -> Trust Notebook</span><iframe src=\"about:blank\" style=\"position:absolute;width:100%;height:100%;left:0;top:0;border:none !important;\" data-html=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 onload=\"this.contentDocument.open();this.contentDocument.write(atob(this.getAttribute('data-html')));this.contentDocument.close();\" allowfullscreen webkitallowfullscreen mozallowfullscreen></iframe></div></div>"
            ],
            "text/plain": [
              "<folium.folium.Map at 0x7f7564f2ff98>"
            ]
          },
          "metadata": {
            "tags": []
          },
          "execution_count": 44
        }
      ]
    },
    {
      "cell_type": "code",
      "metadata": {
        "id": "3REO1xPjAiB3",
        "colab_type": "code",
        "colab": {}
      },
      "source": [
        "# mark each station as a point\n",
        "for index, row in station.iterrows():\n",
        "    folium.CircleMarker([row['latitude'], row['longitude']],\n",
        "                        radius=15,\n",
        "                        popup=row['unique_name'],\n",
        "                        fill_color=\"#3db7e4\", #color\n",
        "                       ).add_to(m)"
      ],
      "execution_count": 0,
      "outputs": []
    },
    {
      "cell_type": "code",
      "metadata": {
        "id": "wbwUpO1LvBiR",
        "colab_type": "code",
        "colab": {}
      },
      "source": [
        "# convert to (n, 2) nd-array format for heatmap\n",
        "stationArr = station[['latitude', 'longitude']].to_numpy()\n",
        "\n",
        "# plot heatmap\n",
        "m.add_child(plugins.HeatMap(stationArr, radius=1))\n",
        "m"
      ],
      "execution_count": 0,
      "outputs": []
    },
    {
      "cell_type": "code",
      "metadata": {
        "id": "IM6zdg7WvU6l",
        "colab_type": "code",
        "colab": {}
      },
      "source": [
        ""
      ],
      "execution_count": 0,
      "outputs": []
    }
  ]
}